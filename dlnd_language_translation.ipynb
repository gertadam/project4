{
 "cells": [
  {
   "cell_type": "markdown",
   "metadata": {
    "collapsed": true
   },
   "source": [
    "# Language Translation\n",
    "In this project, you’re going to take a peek into the realm of neural network machine translation.  You’ll be training a sequence to sequence model on a dataset of English and French sentences that can translate new sentences from English to French.\n",
    "## Get the Data\n",
    "Since translating the whole language of English to French will take lots of time to train, we have provided you with a small portion of the English corpus."
   ]
  },
  {
   "cell_type": "code",
   "execution_count": 1,
   "metadata": {
    "collapsed": true
   },
   "outputs": [],
   "source": [
    "\"\"\"\n",
    "DON'T MODIFY ANYTHING IN THIS CELL\n",
    "\"\"\"\n",
    "import helper\n",
    "import problem_unittests as tests\n",
    "\n",
    "source_path = 'data/small_vocab_en'\n",
    "target_path = 'data/small_vocab_fr'\n",
    "source_text = helper.load_data(source_path)\n",
    "target_text = helper.load_data(target_path)"
   ]
  },
  {
   "cell_type": "markdown",
   "metadata": {},
   "source": [
    "## Explore the Data\n",
    "Play around with view_sentence_range to view different parts of the data."
   ]
  },
  {
   "cell_type": "code",
   "execution_count": 2,
   "metadata": {},
   "outputs": [
    {
     "name": "stdout",
     "output_type": "stream",
     "text": [
      "Dataset Stats\n",
      "Roughly the number of unique words: 227\n",
      "Number of sentences: 137861\n",
      "Average number of words in a sentence: 13.225277634719028\n",
      "\n",
      "English sentences 20 to 30:\n",
      "china is usually pleasant during november , and it is never quiet in october .\n",
      "the united states is never nice during february , but it is sometimes pleasant in april .\n",
      "india is never busy during autumn , and it is mild in spring .\n",
      "paris is mild during summer , but it is usually busy in april .\n",
      "france is never cold during september , and it is snowy in october .\n",
      "california is never cold during may , and it is sometimes chilly in march .\n",
      "he dislikes lemons , grapes , and mangoes.\n",
      "their favorite fruit is the mango , but our favorite is the pear .\n",
      "france is sometimes quiet during may , and it is never chilly in august .\n",
      "paris is never pleasant during september , and it is beautiful in autumn .\n",
      "\n",
      "French sentences 20 to 30:\n",
      "chine est généralement agréable en novembre , et il est jamais tranquille en octobre .\n",
      "les états-unis est jamais agréable en février , mais il est parfois agréable en avril .\n",
      "l' inde est jamais occupé à l'automne , et il est doux au printemps .\n",
      "paris est doux pendant l' été , mais il est généralement occupé en avril .\n",
      "france ne fait jamais froid en septembre , et il est neigeux en octobre .\n",
      "californie ne fait jamais froid au mois de mai , et il est parfois frisquet en mars .\n",
      "il déteste les citrons , les raisins et les mangues .\n",
      "leur fruit préféré est la mangue , mais notre préféré est la poire .\n",
      "la france est parfois calme au mois de mai , et il est jamais froid en août .\n",
      "paris est jamais agréable en septembre , et il est beau à l' automne .\n"
     ]
    }
   ],
   "source": [
    "view_sentence_range = (20, 30)\n",
    "\n",
    "\"\"\"\n",
    "DON'T MODIFY ANYTHING IN THIS CELL\n",
    "\"\"\"\n",
    "import numpy as np\n",
    "\n",
    "print('Dataset Stats')\n",
    "print('Roughly the number of unique words: {}'.format(len({word: None for word in source_text.split()})))\n",
    "\n",
    "sentences = source_text.split('\\n')\n",
    "word_counts = [len(sentence.split()) for sentence in sentences]\n",
    "print('Number of sentences: {}'.format(len(sentences)))\n",
    "print('Average number of words in a sentence: {}'.format(np.average(word_counts)))\n",
    "\n",
    "print()\n",
    "print('English sentences {} to {}:'.format(*view_sentence_range))\n",
    "print('\\n'.join(source_text.split('\\n')[view_sentence_range[0]:view_sentence_range[1]]))\n",
    "print()\n",
    "print('French sentences {} to {}:'.format(*view_sentence_range))\n",
    "print('\\n'.join(target_text.split('\\n')[view_sentence_range[0]:view_sentence_range[1]]))"
   ]
  },
  {
   "cell_type": "markdown",
   "metadata": {},
   "source": [
    "## Implement Preprocessing Function\n",
    "### Text to Word Ids\n",
    "As you did with other RNNs, you must turn the text into a number so the computer can understand it. In the function `text_to_ids()`, you'll turn `source_text` and `target_text` from words to ids.  However, you need to add the `<EOS>` word id at the end of each sentence from `target_text`.  This will help the neural network predict when the sentence should end.\n",
    "\n",
    "You can get the `<EOS>` word id by doing:\n",
    "```python\n",
    "target_vocab_to_int['<EOS>']\n",
    "```\n",
    "You can get other word ids using `source_vocab_to_int` and `target_vocab_to_int`."
   ]
  },
  {
   "cell_type": "code",
   "execution_count": 3,
   "metadata": {},
   "outputs": [
    {
     "name": "stdout",
     "output_type": "stream",
     "text": [
      "Tests Passed\n"
     ]
    }
   ],
   "source": [
    "def transform_vocab(text, vocab):\n",
    "    sentences = []\n",
    "    for sentence in text.split('\\n'):\n",
    "        ids = []\n",
    "        for word in sentence.split():\n",
    "            ids.append( vocab[word] )\n",
    "        \n",
    "        sentences.append(\n",
    "            ids\n",
    "        )\n",
    "    return sentences\n",
    "\n",
    "def add_eos(sentences, token):\n",
    "    for s in sentences:\n",
    "        s.append(token)\n",
    "    return sentences\n",
    "\n",
    "def text_to_ids(source_text, target_text, source_vocab_to_int, target_vocab_to_int):\n",
    "    \"\"\"\n",
    "    Convert source and target text to proper word ids\n",
    "    :param source_text: String that contains all the source text.\n",
    "    :param target_text: String that contains all the target text.\n",
    "    :param source_vocab_to_int: Dictionary to go from the source words to an id\n",
    "    :param target_vocab_to_int: Dictionary to go from the target words to an id\n",
    "    :return: A tuple of lists (source_id_text, target_id_text)\n",
    "    \"\"\"\n",
    "    source_sentences = transform_vocab(source_text, source_vocab_to_int)\n",
    "    target_sentences = transform_vocab(target_text, target_vocab_to_int)\n",
    "    target_sentenEOS = add_eos(target_sentences, target_vocab_to_int['<EOS>'])\n",
    "    \n",
    "    return source_sentences, target_sentenEOS\n",
    "\n",
    "\n",
    "\n",
    "\"\"\"\n",
    "DON'T MODIFY ANYTHING IN THIS CELL THAT IS BELOW THIS LINE\n",
    "\"\"\"\n",
    "tests.test_text_to_ids(text_to_ids)"
   ]
  },
  {
   "cell_type": "markdown",
   "metadata": {},
   "source": [
    "### Preprocess all the data and save it\n",
    "Running the code cell below will preprocess all the data and save it to file."
   ]
  },
  {
   "cell_type": "code",
   "execution_count": 4,
   "metadata": {
    "collapsed": true
   },
   "outputs": [],
   "source": [
    "\"\"\"\n",
    "DON'T MODIFY ANYTHING IN THIS CELL\n",
    "\"\"\"\n",
    "helper.preprocess_and_save_data(source_path, target_path, text_to_ids)"
   ]
  },
  {
   "cell_type": "markdown",
   "metadata": {},
   "source": [
    "# Check Point\n",
    "This is your first checkpoint. If you ever decide to come back to this notebook or have to restart the notebook, you can start from here. The preprocessed data has been saved to disk."
   ]
  },
  {
   "cell_type": "code",
   "execution_count": 5,
   "metadata": {
    "collapsed": true
   },
   "outputs": [],
   "source": [
    "\"\"\"\n",
    "DON'T MODIFY ANYTHING IN THIS CELL\n",
    "\"\"\"\n",
    "import numpy as np\n",
    "import helper\n",
    "\n",
    "(source_int_text, target_int_text), (source_vocab_to_int, target_vocab_to_int), _ = helper.load_preprocess()"
   ]
  },
  {
   "cell_type": "markdown",
   "metadata": {},
   "source": [
    "### Check the Version of TensorFlow and Access to GPU\n",
    "This will check to make sure you have the correct version of TensorFlow and access to a GPU"
   ]
  },
  {
   "cell_type": "code",
   "execution_count": 6,
   "metadata": {},
   "outputs": [
    {
     "name": "stdout",
     "output_type": "stream",
     "text": [
      "TensorFlow Version: 1.0.1\n",
      "Default GPU Device: /gpu:0\n"
     ]
    }
   ],
   "source": [
    "\"\"\"\n",
    "DON'T MODIFY ANYTHING IN THIS CELL\n",
    "\"\"\"\n",
    "from distutils.version import LooseVersion\n",
    "import warnings\n",
    "import tensorflow as tf\n",
    "\n",
    "# Check TensorFlow Version\n",
    "assert LooseVersion(tf.__version__) in [LooseVersion('1.0.0'), LooseVersion('1.0.1')], 'This project requires TensorFlow version 1.0  You are using {}'.format(tf.__version__)\n",
    "print('TensorFlow Version: {}'.format(tf.__version__))\n",
    "\n",
    "# Check for a GPU\n",
    "if not tf.test.gpu_device_name():\n",
    "    warnings.warn('No GPU found. Please use a GPU to train your neural network.')\n",
    "else:\n",
    "    print('Default GPU Device: {}'.format(tf.test.gpu_device_name()))"
   ]
  },
  {
   "cell_type": "markdown",
   "metadata": {},
   "source": [
    "## Build the Neural Network\n",
    "You'll build the components necessary to build a Sequence-to-Sequence model by implementing the following functions below:\n",
    "- `model_inputs`\n",
    "- `process_decoding_input`\n",
    "- `encoding_layer`\n",
    "- `decoding_layer_train`\n",
    "- `decoding_layer_infer`\n",
    "- `decoding_layer`\n",
    "- `seq2seq_model`\n",
    "\n",
    "### Input\n",
    "Implement the `model_inputs()` function to create TF Placeholders for the Neural Network. It should create the following placeholders:\n",
    "\n",
    "- Input text placeholder named \"input\" using the TF Placeholder name parameter with rank 2.\n",
    "- Targets placeholder with rank 2.\n",
    "- Learning rate placeholder with rank 0.\n",
    "- Keep probability placeholder named \"keep_prob\" using the TF Placeholder name parameter with rank 0.\n",
    "\n",
    "Return the placeholders in the following the tuple (Input, Targets, Learing Rate, Keep Probability)"
   ]
  },
  {
   "cell_type": "code",
   "execution_count": 7,
   "metadata": {},
   "outputs": [
    {
     "name": "stdout",
     "output_type": "stream",
     "text": [
      "Tests Passed\n"
     ]
    }
   ],
   "source": [
    "def model_inputs():\n",
    "    \"\"\"\n",
    "    Create TF Placeholders for input, targets, and learning rate.\n",
    "    :return: Tuple (input, targets, learning rate, keep probability)\n",
    "    \"\"\"\n",
    "    _input = tf.placeholder(shape=[None, None],dtype=tf.int32, name=\"input\")\n",
    "    targets = tf.placeholder(shape=[None, None], dtype=tf.int32)\n",
    "    learning_rate = tf.placeholder(shape=[], dtype=tf.float32)\n",
    "    keep_probability = tf.placeholder(shape=[], dtype=tf.float32, name=\"keep_prob\")\n",
    "    \n",
    "    return _input, targets, learning_rate, keep_probability\n",
    "\n",
    "\n",
    "\n",
    "\"\"\"\n",
    "DON'T MODIFY ANYTHING IN THIS CELL THAT IS BELOW THIS LINE\n",
    "\"\"\"\n",
    "tests.test_model_inputs(model_inputs)"
   ]
  },
  {
   "cell_type": "markdown",
   "metadata": {},
   "source": [
    "### Process Decoding Input\n",
    "Implement `process_decoding_input` using TensorFlow to remove the last word id from each batch in `target_data` and concat the GO ID to the begining of each batch."
   ]
  },
  {
   "cell_type": "code",
   "execution_count": 8,
   "metadata": {},
   "outputs": [
    {
     "name": "stdout",
     "output_type": "stream",
     "text": [
      "Tests Passed\n"
     ]
    }
   ],
   "source": [
    "def process_decoding_input(target_data, target_vocab_to_int, batch_size):\n",
    "    \"\"\"\n",
    "    Preprocess target data for dencoding\n",
    "    :param target_data: Target Placehoder\n",
    "    :param target_vocab_to_int: Dictionary to go from the target words to an id\n",
    "    :param batch_size: Batch Size\n",
    "    :return: Preprocessed target data\n",
    "    \"\"\"\n",
    "    ending = tf.strided_slice(target_data, [0, 0], [batch_size, -1], [1, 1])\n",
    "    dec_input = tf.concat([tf.fill([batch_size, 1], target_vocab_to_int['<GO>']), ending], 1)\n",
    "    return dec_input\n",
    "\n",
    "\n",
    "\"\"\"\n",
    "DON'T MODIFY ANYTHING IN THIS CELL THAT IS BELOW THIS LINE\n",
    "\"\"\"\n",
    "tests.test_process_decoding_input(process_decoding_input)"
   ]
  },
  {
   "cell_type": "markdown",
   "metadata": {},
   "source": [
    "### Encoding\n",
    "Implement `encoding_layer()` to create a Encoder RNN layer using [`tf.nn.dynamic_rnn()`](https://www.tensorflow.org/api_docs/python/tf/nn/dynamic_rnn)."
   ]
  },
  {
   "cell_type": "code",
   "execution_count": 9,
   "metadata": {},
   "outputs": [
    {
     "name": "stdout",
     "output_type": "stream",
     "text": [
      "Tests Passed\n"
     ]
    }
   ],
   "source": [
    "def encoding_layer(rnn_inputs, rnn_size, num_layers, keep_prob):\n",
    "    \"\"\"\n",
    "    Create encoding layer\n",
    "    :param rnn_inputs: Inputs for the RNN\n",
    "    :param rnn_size: RNN Size\n",
    "    :param num_layers: Number of layers\n",
    "    :param keep_prob: Dropout keep probability\n",
    "    :return: RNN state\n",
    "    \"\"\"\n",
    "        \n",
    "    # source: Google devs - Youtube: Sequence Models and the RNN API (TFsummit) \n",
    "    # devices = [\"/gpu:1\",\"/gpu:0\"]   # layer per device\n",
    "    # cell = MultiRnnCell([Devicewrapper(ResidualWrapper(LSTMCell(rnnsize)), device) for device in devices])\n",
    "    \n",
    "    basic_cell = tf.contrib.rnn.BasicLSTMCell(rnn_size)    \n",
    "    multi_cell = tf.contrib.rnn.MultiRNNCell([basic_cell] * num_layers)\n",
    "    dropo_cell = tf.contrib.rnn.DropoutWrapper(multi_cell, input_keep_prob= keep_prob) \n",
    "        \n",
    "    outputs, state = tf.nn.dynamic_rnn(dropo_cell, rnn_inputs, dtype=tf.float32)\n",
    "    return state\n",
    "\n",
    "\n",
    "\"\"\"\n",
    "DON'T MODIFY ANYTHING IN THIS CELL THAT IS BELOW THIS LINE\n",
    "\"\"\"\n",
    "tests.test_encoding_layer(encoding_layer)"
   ]
  },
  {
   "cell_type": "markdown",
   "metadata": {},
   "source": [
    "### Decoding - Training\n",
    "Create training logits using [`tf.contrib.seq2seq.simple_decoder_fn_train()`](https://www.tensorflow.org/api_docs/python/tf/contrib/seq2seq/simple_decoder_fn_train) and [`tf.contrib.seq2seq.dynamic_rnn_decoder()`](https://www.tensorflow.org/api_docs/python/tf/contrib/seq2seq/dynamic_rnn_decoder).  Apply the `output_fn` to the [`tf.contrib.seq2seq.dynamic_rnn_decoder()`](https://www.tensorflow.org/api_docs/python/tf/contrib/seq2seq/dynamic_rnn_decoder) outputs."
   ]
  },
  {
   "cell_type": "code",
   "execution_count": 10,
   "metadata": {},
   "outputs": [
    {
     "name": "stdout",
     "output_type": "stream",
     "text": [
      "Tests Passed\n"
     ]
    }
   ],
   "source": [
    "def decoding_layer_train(encoder_state, dec_cell, dec_embed_input, sequence_length, decoding_scope,\n",
    "                         output_fn, keep_prob):\n",
    "    \"\"\"\n",
    "    Create a decoding layer for training\n",
    "    :param encoder_state: Encoder State\n",
    "    :param dec_cell: Decoder RNN Cell\n",
    "    :param dec_embed_input: Decoder embedded input\n",
    "    :param sequence_length: Sequence Length\n",
    "    :param decoding_scope: TenorFlow Variable Scope for decoding\n",
    "    :param output_fn: Function to apply the output layer\n",
    "    :param keep_prob: Dropout keep probability\n",
    "    :return: Train Logits\n",
    "    \"\"\"\n",
    "    train_decoder_fn = tf.contrib.seq2seq.simple_decoder_fn_train(encoder_state)\n",
    "    \n",
    "    dec_cell = tf.contrib.rnn.DropoutWrapper(dec_cell, input_keep_prob=keep_prob) \n",
    "\n",
    "    train_pred, _, _ = tf.contrib.seq2seq.dynamic_rnn_decoder(\n",
    "        dec_cell, train_decoder_fn, dec_embed_input, sequence_length, scope=decoding_scope)   \n",
    "        \n",
    "    return output_fn(train_pred)\n",
    "\n",
    "\n",
    "\"\"\"\n",
    "DON'T MODIFY ANYTHING IN THIS CELL THAT IS BELOW THIS LINE\n",
    "\"\"\"\n",
    "tests.test_decoding_layer_train(decoding_layer_train)"
   ]
  },
  {
   "cell_type": "markdown",
   "metadata": {},
   "source": [
    "### Decoding - Inference\n",
    "Create inference logits using [`tf.contrib.seq2seq.simple_decoder_fn_inference()`](https://www.tensorflow.org/api_docs/python/tf/contrib/seq2seq/simple_decoder_fn_inference) and [`tf.contrib.seq2seq.dynamic_rnn_decoder()`](https://www.tensorflow.org/api_docs/python/tf/contrib/seq2seq/dynamic_rnn_decoder). "
   ]
  },
  {
   "cell_type": "code",
   "execution_count": 11,
   "metadata": {},
   "outputs": [
    {
     "name": "stdout",
     "output_type": "stream",
     "text": [
      "Tests Passed\n"
     ]
    }
   ],
   "source": [
    "def decoding_layer_infer(encoder_state, dec_cell, dec_embeddings, start_of_sequence_id, end_of_sequence_id,\n",
    "                         maximum_length, vocab_size, decoding_scope, output_fn, keep_prob):\n",
    "    \"\"\"\n",
    "    Create a decoding layer for inference\n",
    "    :param encoder_state: Encoder state\n",
    "    :param dec_cell: Decoder RNN Cell\n",
    "    :param dec_embeddings: Decoder embeddings\n",
    "    :param start_of_sequence_id: GO ID\n",
    "    :param end_of_sequence_id: EOS Id\n",
    "    :param maximum_length: The maximum allowed time steps to decode\n",
    "    :param vocab_size: Size of vocabulary\n",
    "    :param decoding_scope: TensorFlow Variable Scope for decoding\n",
    "    :param output_fn: Function to apply the output layer\n",
    "    :param keep_prob: Dropout keep probability\n",
    "    :return: Inference Logits\n",
    "    \"\"\"\n",
    "    d_o_cell = tf.contrib.rnn.DropoutWrapper(dec_cell, input_keep_prob=keep_prob) \n",
    "    \n",
    "    inter_decoder_fn = tf.contrib.seq2seq.simple_decoder_fn_inference(\n",
    "        output_fn, encoder_state, dec_embeddings, start_of_sequence_id, \n",
    "        end_of_sequence_id, maximum_length, vocab_size)\n",
    "    \n",
    "    train_pred, _, _ = tf.contrib.seq2seq.dynamic_rnn_decoder(\n",
    "        d_o_cell, inter_decoder_fn, scope = decoding_scope)\n",
    "    \n",
    "    return train_pred\n",
    "\n",
    "\n",
    "\"\"\"\n",
    "DON'T MODIFY ANYTHING IN THIS CELL THAT IS BELOW THIS LINE\n",
    "\"\"\"\n",
    "tests.test_decoding_layer_infer(decoding_layer_infer)"
   ]
  },
  {
   "cell_type": "markdown",
   "metadata": {},
   "source": [
    "### Build the Decoding Layer\n",
    "Implement `decoding_layer()` to create a Decoder RNN layer.\n",
    "\n",
    "- Create RNN cell for decoding using `rnn_size` and `num_layers`.\n",
    "- Create the output fuction using [`lambda`](https://docs.python.org/3/tutorial/controlflow.html#lambda-expressions) to transform it's input, logits, to class logits.\n",
    "- Use the your `decoding_layer_train(encoder_state, dec_cell, dec_embed_input, sequence_length, decoding_scope, output_fn, keep_prob)` function to get the training logits.\n",
    "- Use your `decoding_layer_infer(encoder_state, dec_cell, dec_embeddings, start_of_sequence_id, end_of_sequence_id, maximum_length, vocab_size, decoding_scope, output_fn, keep_prob)` function to get the inference logits.\n",
    "\n",
    "Note: You'll need to use [tf.variable_scope](https://www.tensorflow.org/api_docs/python/tf/variable_scope) to share variables between training and inference."
   ]
  },
  {
   "cell_type": "code",
   "execution_count": 12,
   "metadata": {},
   "outputs": [
    {
     "name": "stdout",
     "output_type": "stream",
     "text": [
      "Tests Passed\n"
     ]
    }
   ],
   "source": [
    "#run_on_server = False      # init - no_GPU 1 or 2  var set true if [DeviceWrapper]\n",
    "\n",
    "def decoding_layer(dec_embed_input, dec_embeddings, encoder_state, vocab_size, sequence_length, rnn_size,\n",
    "                   num_layers, target_vocab_to_int, keep_prob):\n",
    "    \"\"\"\n",
    "    Create decoding layer\n",
    "    :param dec_embed_input: Decoder embedded input\n",
    "    :param dec_embeddings: Decoder embeddings\n",
    "    :param encoder_state: The encoded state\n",
    "    :param vocab_size: Size of vocabulary\n",
    "    :param sequence_length: Sequence Length\n",
    "    :param rnn_size: RNN Size\n",
    "    :param num_layers: Number of layers\n",
    "    :param target_vocab_to_int: Dictionary to go from the target words to an id\n",
    "    :param keep_prob: Dropout keep probability\n",
    "    :return: Tuple of (Training Logits, Inference Logits)\n",
    "    \"\"\"\n",
    "    start_of_sequence_id = target_vocab_to_int['<GO>']\n",
    "    end_of_sequence_id = target_vocab_to_int['<EOS>']\n",
    "    basic_cell = tf.contrib.rnn.BasicLSTMCell(rnn_size)\n",
    "    multi_cell = tf.contrib.rnn.MultiRNNCell([basic_cell] * num_layers)\n",
    "    dropo_cell = tf.contrib.rnn.DropoutWrapper(multi_cell, input_keep_prob= keep_prob) \n",
    "        \n",
    "    output_fn = lambda logits: tf.contrib.layers.fully_connected(inputs=logits, num_outputs=vocab_size, \\\n",
    "                                                                activation_fn=None, scope=decoding_scope)\n",
    "        \n",
    "    with tf.variable_scope(\"decoding\") as decoding_scope:\n",
    "        t_logits = decoding_layer_train(encoder_state, dropo_cell, dec_embed_input, sequence_length, \\\n",
    "                                        decoding_scope, output_fn, keep_prob)\n",
    "    \n",
    "    with tf.variable_scope(\"decoding\", reuse=True) as decoding_scope:\n",
    "        i_logits = decoding_layer_infer(encoder_state, dropo_cell, dec_embeddings, start_of_sequence_id, \\\n",
    "                                        end_of_sequence_id, sequence_length, vocab_size, decoding_scope, \\\n",
    "                                        output_fn, keep_prob)\n",
    "    \n",
    "    return t_logits, i_logits\n",
    "    \n",
    "\n",
    "\"\"\"\n",
    "DON'T MODIFY ANYTHING IN THIS CELL THAT IS BELOW THIS LINE\n",
    "\"\"\"\n",
    "tests.test_decoding_layer(decoding_layer)"
   ]
  },
  {
   "cell_type": "markdown",
   "metadata": {},
   "source": [
    "### Build the Neural Network\n",
    "Apply the functions you implemented above to:\n",
    "\n",
    "- Apply embedding to the input data for the encoder.\n",
    "- Encode the input using your `encoding_layer(rnn_inputs, rnn_size, num_layers, keep_prob)`.\n",
    "- Process target data using your `process_decoding_input(target_data, target_vocab_to_int, batch_size)` function.\n",
    "- Apply embedding to the target data for the decoder.\n",
    "- Decode the encoded input using your `decoding_layer(dec_embed_input, dec_embeddings, encoder_state, vocab_size, sequence_length, rnn_size, num_layers, target_vocab_to_int, keep_prob)`."
   ]
  },
  {
   "cell_type": "code",
   "execution_count": 13,
   "metadata": {},
   "outputs": [
    {
     "name": "stdout",
     "output_type": "stream",
     "text": [
      "Tests Passed\n"
     ]
    }
   ],
   "source": [
    "def embed(input_data, vocab_size, embd_siz):\n",
    "    \n",
    "    init_embd = tf.random_uniform((vocab_size, embd_siz), -1, 1)\n",
    "    embedding = tf.Variable(init_embd)\n",
    "    embed_lookup = tf.nn.embedding_lookup(embedding, input_data)\n",
    "    \n",
    "    return embedding, embed_lookup\n",
    "\n",
    "\n",
    "def seq2seq_model(input_data, target_data, keep_prob, batch_size, sequence_length, source_vocab_size, \n",
    "                  target_vocab_size, enc_embedding_size, dec_embedding_size, rnn_size, num_layers, \n",
    "                  target_vocab_to_int):\n",
    "    \"\"\"\n",
    "    Build the Sequence-to-Sequence part of the neural network\n",
    "    :param input_data: Input placeholder\n",
    "    :param target_data: Target placeholder\n",
    "    :param keep_prob: Dropout keep probability placeholder\n",
    "    :param batch_size: Batch Size\n",
    "    :param sequence_length: Sequence Length\n",
    "    :param source_vocab_size: Source vocabulary size\n",
    "    :param target_vocab_size: Target vocabulary size\n",
    "    :param enc_embedding_size: Decoder embedding size\n",
    "    :param dec_embedding_size: Encoder embedding size\n",
    "    :param rnn_size: RNN Size\n",
    "    :param num_layers: Number of layers\n",
    "    :param target_vocab_to_int: Dictionary to go from the target words to an id\n",
    "    :return: Tuple of (Training Logits, Inference Logits)\n",
    "    \"\"\"\n",
    "    \n",
    "    input_data, input_embed_lookup = embed(input_data, source_vocab_size, enc_embedding_size)\n",
    "    encoder_state = encoding_layer(input_embed_lookup, rnn_size, num_layers, keep_prob)\n",
    "    \n",
    "    target_data = process_decoding_input(target_data, target_vocab_to_int, batch_size)\n",
    "    target_data, target_embed_lookup = embed(target_data, target_vocab_size, dec_embedding_size)\n",
    "    t_logits, i_logits = decoding_layer(target_embed_lookup, target_data, encoder_state, target_vocab_size, \\\n",
    "                         sequence_length, rnn_size, num_layers, target_vocab_to_int, keep_prob)\n",
    "\n",
    "    return  t_logits, i_logits\n",
    "\n",
    "\"\"\"\n",
    "DON'T MODIFY ANYTHING IN THIS CELL THAT IS BELOW THIS LINE\n",
    "\"\"\"\n",
    "tests.test_seq2seq_model(seq2seq_model)"
   ]
  },
  {
   "cell_type": "markdown",
   "metadata": {},
   "source": [
    "## Neural Network Training\n",
    "### Hyperparameters\n",
    "Tune the following parameters:\n",
    "\n",
    "- Set `epochs` to the number of epochs.\n",
    "- Set `batch_size` to the batch size.\n",
    "- Set `rnn_size` to the size of the RNNs.\n",
    "- Set `num_layers` to the number of layers.\n",
    "- Set `encoding_embedding_size` to the size of the embedding for the encoder.\n",
    "- Set `decoding_embedding_size` to the size of the embedding for the decoder.\n",
    "- Set `learning_rate` to the learning rate.\n",
    "- Set `keep_probability` to the Dropout keep probability"
   ]
  },
  {
   "cell_type": "code",
   "execution_count": 14,
   "metadata": {},
   "outputs": [
    {
     "name": "stdout",
     "output_type": "stream",
     "text": [
      "Learning Rate: 0.01\n"
     ]
    }
   ],
   "source": [
    "# Number of Epochs\n",
    "epochs        = 1               # set to 1 ..for initial run\n",
    "# Batch Size\n",
    "batch_size    = 512             # 1024 results in: \"ressource exhausted\" error      \n",
    "# RNN Size\n",
    "rnn_size      = 512             # 'high mean, the model will learn more complex structure' \n",
    "# Number of Layers      \n",
    "num_layers    = 4\n",
    "# Embedding Size                # \"Can represent the number of unique words we can deal with.\" \n",
    "encoding_embedding_size = 256\n",
    "decoding_embedding_size = 256\n",
    "# Learning Rate\n",
    "learning_rate = 0.01\n",
    "# Dropout Keep Probability\n",
    "keep_probability = 0.6\n",
    "# write a line every n batch\n",
    "show_every_n_batches = 135\n",
    "\n",
    "print('Learning Rate:', learning_rate)\n"
   ]
  },
  {
   "cell_type": "markdown",
   "metadata": {},
   "source": [
    "### Build the Graph\n",
    "Build the graph using the neural network you implemented."
   ]
  },
  {
   "cell_type": "code",
   "execution_count": 15,
   "metadata": {
    "collapsed": true
   },
   "outputs": [],
   "source": [
    "\"\"\"\n",
    "DON'T MODIFY ANYTHING IN THIS CELL\n",
    "\"\"\"\n",
    "save_path = 'checkpoints/dev'\n",
    "(source_int_text, target_int_text), (source_vocab_to_int, target_vocab_to_int), _ = helper.load_preprocess()\n",
    "max_source_sentence_length = max([len(sentence) for sentence in source_int_text])\n",
    "\n",
    "train_graph = tf.Graph()\n",
    "with train_graph.as_default():\n",
    "    input_data, targets, lr, keep_prob = model_inputs()\n",
    "    sequence_length = tf.placeholder_with_default(max_source_sentence_length, None, name='sequence_length')\n",
    "    input_shape = tf.shape(input_data)\n",
    "    \n",
    "    train_logits, inference_logits = seq2seq_model(\n",
    "        tf.reverse(input_data, [-1]), targets, keep_prob, batch_size, sequence_length, len(source_vocab_to_int), len(target_vocab_to_int),\n",
    "        encoding_embedding_size, decoding_embedding_size, rnn_size, num_layers, target_vocab_to_int)\n",
    "\n",
    "    tf.identity(inference_logits, 'logits')\n",
    "    with tf.name_scope(\"optimization\"):\n",
    "        # Loss function\n",
    "        cost = tf.contrib.seq2seq.sequence_loss(\n",
    "            train_logits,\n",
    "            targets,\n",
    "            tf.ones([input_shape[0], sequence_length]))\n",
    "\n",
    "        # Optimizer\n",
    "        optimizer = tf.train.AdamOptimizer(lr)\n",
    "\n",
    "        # Gradient Clipping\n",
    "        gradients = optimizer.compute_gradients(cost)\n",
    "        capped_gradients = [(tf.clip_by_value(grad, -1., 1.), var) for grad, var in gradients if grad is not None]\n",
    "        train_op = optimizer.apply_gradients(capped_gradients)"
   ]
  },
  {
   "cell_type": "markdown",
   "metadata": {},
   "source": [
    "### Train\n",
    "Train the neural network on the preprocessed data. If you have a hard time getting a good loss, check the forms to see if anyone is having the same problem."
   ]
  },
  {
   "cell_type": "code",
   "execution_count": 16,
   "metadata": {
    "scrolled": true
   },
   "outputs": [
    {
     "name": "stdout",
     "output_type": "stream",
     "text": [
      "Epoch   0 Batch    0/269 - Train Accuracy:  0.166, Validation Accuracy:  0.245, Loss:  5.883\n",
      "Epoch   0 Batch  135/269 - Train Accuracy:  0.359, Validation Accuracy:  0.419, Loss:  2.784\n",
      "Model Trained and Saved\n"
     ]
    }
   ],
   "source": [
    "\"\"\"\n",
    "DON'T MODIFY ANYTHING IN THIS CELL\n",
    "\"\"\"\n",
    "import time\n",
    "\n",
    "def get_accuracy(target, logits):\n",
    "    \"\"\"\n",
    "    Calculate accuracy\n",
    "    \"\"\"\n",
    "    max_seq = max(target.shape[1], logits.shape[1])\n",
    "    if max_seq - target.shape[1]:\n",
    "        target = np.pad(\n",
    "            target,\n",
    "            [(0,0),(0,max_seq - target.shape[1])],\n",
    "            'constant')\n",
    "    if max_seq - logits.shape[1]:\n",
    "        logits = np.pad(\n",
    "            logits,\n",
    "            [(0,0),(0,max_seq - logits.shape[1]), (0,0)],\n",
    "            'constant')\n",
    "\n",
    "    return np.mean(np.equal(target, np.argmax(logits, 2)))\n",
    "\n",
    "train_source = source_int_text[batch_size:]\n",
    "train_target = target_int_text[batch_size:]\n",
    "\n",
    "valid_source = helper.pad_sentence_batch(source_int_text[:batch_size])\n",
    "valid_target = helper.pad_sentence_batch(target_int_text[:batch_size])\n",
    "\n",
    "with tf.Session(graph=train_graph) as sess:\n",
    "    sess.run(tf.global_variables_initializer())\n",
    "\n",
    "    for epoch_i in range(epochs):\n",
    "        for batch_i, (source_batch, target_batch) in enumerate(\n",
    "                helper.batch_data(train_source, train_target, batch_size)):\n",
    "            start_time = time.time()\n",
    "            \n",
    "            _, loss = sess.run(\n",
    "                [train_op, cost],\n",
    "                {input_data: source_batch,\n",
    "                 targets: target_batch,\n",
    "                 lr: learning_rate,\n",
    "                 sequence_length: target_batch.shape[1],\n",
    "                 keep_prob: keep_probability})\n",
    "            \n",
    "            batch_train_logits = sess.run(\n",
    "                inference_logits,\n",
    "                {input_data: source_batch, keep_prob: 1.0})\n",
    "            batch_valid_logits = sess.run(\n",
    "                inference_logits,\n",
    "                {input_data: valid_source, keep_prob: 1.0})\n",
    "                \n",
    "            train_acc = get_accuracy(target_batch, batch_train_logits)\n",
    "            valid_acc = get_accuracy(np.array(valid_target), batch_valid_logits)\n",
    "            end_time = time.time()\n",
    "            if (batch_i % show_every_n_batches == 0):\n",
    "                print('Epoch {:>3} Batch {:>4}/{} - Train Accuracy: {:>6.3f}, Validation Accuracy: {:>6.3f}, Loss: {:>6.3f}'\n",
    "                  .format(epoch_i, batch_i, len(source_int_text) // batch_size, train_acc, valid_acc, loss))\n",
    "\n",
    "    # Save Model\n",
    "    saver = tf.train.Saver()\n",
    "    saver.save(sess, save_path)\n",
    "    print('Model Trained and Saved')"
   ]
  },
  {
   "cell_type": "markdown",
   "metadata": {},
   "source": [
    "## Continue training ##"
   ]
  },
  {
   "cell_type": "code",
   "execution_count": 17,
   "metadata": {
    "collapsed": true
   },
   "outputs": [],
   "source": [
    "#params for continue\n",
    "# Number of Epochs\n",
    "epochs = 25\n"
   ]
  },
  {
   "cell_type": "code",
   "execution_count": 18,
   "metadata": {},
   "outputs": [
    {
     "name": "stdout",
     "output_type": "stream",
     "text": [
      "time:    1 secs Epoch   0 Batch    0/269 - Train Accu: 0.3596, Val. Accu: 0.4132, Loss: 1.8282\n",
      "time:  108 secs Epoch   0 Batch  135/269 - Train Accu: 0.2941, Val. Accu: 0.3484, Loss: 1.4051\n",
      "time:  213 secs Epoch   1 Batch    0/269 - Train Accu: 0.3480, Val. Accu: 0.4077, Loss: 1.5985\n",
      "time:  321 secs Epoch   1 Batch  135/269 - Train Accu: 0.3685, Val. Accu: 0.4426, Loss: 1.0633\n",
      "time:  426 secs Epoch   2 Batch    0/269 - Train Accu: 0.4716, Val. Accu: 0.5128, Loss: 0.8996\n",
      "time:  533 secs Epoch   2 Batch  135/269 - Train Accu: 0.5877, Val. Accu: 0.6163, Loss: 0.7086\n",
      "time:  639 secs Epoch   3 Batch    0/269 - Train Accu: 0.6238, Val. Accu: 0.6325, Loss: 0.6031\n",
      "time:  746 secs Epoch   3 Batch  135/269 - Train Accu: 0.6394, Val. Accu: 0.6696, Loss: 0.5695\n",
      "time:  852 secs Epoch   4 Batch    0/269 - Train Accu: 0.6929, Val. Accu: 0.7066, Loss: 0.5140\n",
      "time:  959 secs Epoch   4 Batch  135/269 - Train Accu: 0.6807, Val. Accu: 0.7246, Loss: 0.4600\n",
      "time: 1065 secs Epoch   5 Batch    0/269 - Train Accu: 0.7181, Val. Accu: 0.7380, Loss: 0.4158\n",
      "time: 1172 secs Epoch   5 Batch  135/269 - Train Accu: 0.7327, Val. Accu: 0.7390, Loss: 0.3827\n",
      "time: 1278 secs Epoch   6 Batch    0/269 - Train Accu: 0.7735, Val. Accu: 0.7764, Loss: 0.3392\n",
      "time: 1385 secs Epoch   6 Batch  135/269 - Train Accu: 0.7811, Val. Accu: 0.7842, Loss: 0.3040\n",
      "time: 1491 secs Epoch   7 Batch    0/269 - Train Accu: 0.8044, Val. Accu: 0.8040, Loss: 0.2743\n",
      "time: 1598 secs Epoch   7 Batch  135/269 - Train Accu: 0.8215, Val. Accu: 0.8288, Loss: 0.2521\n",
      "time: 1703 secs Epoch   8 Batch    0/269 - Train Accu: 0.8454, Val. Accu: 0.8433, Loss: 0.2256\n",
      "time: 1811 secs Epoch   8 Batch  135/269 - Train Accu: 0.8496, Val. Accu: 0.8531, Loss: 0.2068\n",
      "time: 1917 secs Epoch   9 Batch    0/269 - Train Accu: 0.8529, Val. Accu: 0.8428, Loss: 0.2150\n",
      "time: 2024 secs Epoch   9 Batch  135/269 - Train Accu: 0.8583, Val. Accu: 0.8627, Loss: 0.1764\n",
      "time: 2130 secs Epoch  10 Batch    0/269 - Train Accu: 0.8735, Val. Accu: 0.8681, Loss: 0.1665\n",
      "time: 2237 secs Epoch  10 Batch  135/269 - Train Accu: 0.8807, Val. Accu: 0.8659, Loss: 0.1511\n",
      "time: 2343 secs Epoch  11 Batch    0/269 - Train Accu: 0.8855, Val. Accu: 0.8798, Loss: 0.1429\n",
      "time: 2450 secs Epoch  11 Batch  135/269 - Train Accu: 0.9070, Val. Accu: 0.8841, Loss: 0.1228\n",
      "time: 2556 secs Epoch  12 Batch    0/269 - Train Accu: 0.9117, Val. Accu: 0.8999, Loss: 0.1176\n",
      "time: 2663 secs Epoch  12 Batch  135/269 - Train Accu: 0.9154, Val. Accu: 0.9085, Loss: 0.1078\n",
      "time: 2769 secs Epoch  13 Batch    0/269 - Train Accu: 0.9179, Val. Accu: 0.9055, Loss: 0.1107\n",
      "time: 2876 secs Epoch  13 Batch  135/269 - Train Accu: 0.9113, Val. Accu: 0.9163, Loss: 0.1057\n",
      "time: 2982 secs Epoch  14 Batch    0/269 - Train Accu: 0.9214, Val. Accu: 0.9064, Loss: 0.1044\n",
      "time: 3089 secs Epoch  14 Batch  135/269 - Train Accu: 0.9146, Val. Accu: 0.9087, Loss: 0.0977\n",
      "time: 3195 secs Epoch  15 Batch    0/269 - Train Accu: 0.9170, Val. Accu: 0.9149, Loss: 0.1008\n",
      "time: 3302 secs Epoch  15 Batch  135/269 - Train Accu: 0.9151, Val. Accu: 0.9181, Loss: 0.1001\n",
      "time: 3408 secs Epoch  16 Batch    0/269 - Train Accu: 0.9076, Val. Accu: 0.9071, Loss: 0.1050\n",
      "time: 3516 secs Epoch  16 Batch  135/269 - Train Accu: 0.9193, Val. Accu: 0.9040, Loss: 0.0929\n",
      "time: 3621 secs Epoch  17 Batch    0/269 - Train Accu: 0.9258, Val. Accu: 0.9148, Loss: 0.0955\n",
      "time: 3729 secs Epoch  17 Batch  135/269 - Train Accu: 0.9208, Val. Accu: 0.9148, Loss: 0.0877\n",
      "time: 3834 secs Epoch  18 Batch    0/269 - Train Accu: 0.9338, Val. Accu: 0.9135, Loss: 0.0928\n",
      "time: 3941 secs Epoch  18 Batch  135/269 - Train Accu: 0.9024, Val. Accu: 0.8973, Loss: 0.0903\n",
      "time: 4047 secs Epoch  19 Batch    0/269 - Train Accu: 0.9323, Val. Accu: 0.9213, Loss: 0.0877\n",
      "time: 4155 secs Epoch  19 Batch  135/269 - Train Accu: 0.9062, Val. Accu: 0.9126, Loss: 0.0825\n",
      "time: 4261 secs Epoch  20 Batch    0/269 - Train Accu: 0.9246, Val. Accu: 0.9087, Loss: 0.0869\n",
      "time: 4368 secs Epoch  20 Batch  135/269 - Train Accu: 0.9171, Val. Accu: 0.9193, Loss: 0.0859\n",
      "time: 4474 secs Epoch  21 Batch    0/269 - Train Accu: 0.9274, Val. Accu: 0.9135, Loss: 0.1087\n",
      "time: 4581 secs Epoch  21 Batch  135/269 - Train Accu: 0.9242, Val. Accu: 0.9157, Loss: 0.0783\n",
      "time: 4687 secs Epoch  22 Batch    0/269 - Train Accu: 0.9337, Val. Accu: 0.9268, Loss: 0.0865\n",
      "time: 4794 secs Epoch  22 Batch  135/269 - Train Accu: 0.9230, Val. Accu: 0.9117, Loss: 0.0767\n",
      "time: 4900 secs Epoch  23 Batch    0/269 - Train Accu: 0.9318, Val. Accu: 0.9149, Loss: 0.0884\n",
      "time: 5007 secs Epoch  23 Batch  135/269 - Train Accu: 0.9200, Val. Accu: 0.9126, Loss: 0.0862\n",
      "time: 5113 secs Epoch  24 Batch    0/269 - Train Accu: 0.9230, Val. Accu: 0.9165, Loss: 0.0832\n",
      "time: 5220 secs Epoch  24 Batch  135/269 - Train Accu: 0.9274, Val. Accu: 0.9244, Loss: 0.0762\n",
      "time: 5325 secs\n",
      "continue-Model Trained and Saved\n"
     ]
    }
   ],
   "source": [
    "#continue training\n",
    "cont_time = time.time()\n",
    "\n",
    "train_source = source_int_text[batch_size:]\n",
    "train_target = target_int_text[batch_size:]\n",
    "\n",
    "valid_source = helper.pad_sentence_batch(source_int_text[:batch_size])\n",
    "valid_target = helper.pad_sentence_batch(target_int_text[:batch_size])\n",
    "\n",
    "with tf.Session(graph=train_graph) as sess:\n",
    "    sess.run(tf.global_variables_initializer())\n",
    "\n",
    "    saver.restore(sess,save_path)\n",
    "    \n",
    "    for epoch_i in range(epochs):\n",
    "        for batch_i, (source_batch, target_batch) in enumerate(\n",
    "                helper.batch_data(train_source, train_target, batch_size)):\n",
    "            \n",
    "            _, loss = sess.run(\n",
    "                [train_op, cost],\n",
    "                {input_data: source_batch,\n",
    "                 targets: target_batch,\n",
    "                 lr: learning_rate,\n",
    "                 sequence_length: target_batch.shape[1],\n",
    "                 keep_prob: keep_probability})\n",
    "            \n",
    "            batch_train_logits = sess.run(\n",
    "                inference_logits,\n",
    "                {input_data: source_batch, keep_prob: 1.0})\n",
    "            batch_valid_logits = sess.run(\n",
    "                inference_logits,\n",
    "                {input_data: valid_source, keep_prob: 1.0})\n",
    "                \n",
    "            train_acc = get_accuracy(target_batch, batch_train_logits)\n",
    "            valid_acc = get_accuracy(np.array(valid_target), batch_valid_logits)\n",
    "            \n",
    "            if (batch_i % show_every_n_batches == 0):\n",
    "                line_time = time.time()\n",
    "                time_pass = line_time - cont_time\n",
    "                print('time: {:>4.0f} secs Epoch {:>3} Batch {:>4}/{} - Train Accu: {:>6.4f}, Val. Accu: {:>6.4f}, Loss: {:>6.4f}'\n",
    "                     .format(time_pass, epoch_i, batch_i, len(source_int_text) // batch_size, train_acc, valid_acc, loss))\n",
    "\n",
    "    # Save Model\n",
    "    saver = tf.train.Saver()\n",
    "    saver.save(sess, save_path)\n",
    "    save_time = time.time()\n",
    "    time_pass = save_time - cont_time\n",
    "    print('time: {:>4.0f} secs'.format(time_pass))\n",
    "    print('continue-Model Trained and Saved')"
   ]
  },
  {
   "cell_type": "markdown",
   "metadata": {},
   "source": [
    "### Save Parameters\n",
    "Save the `batch_size` and `save_path` parameters for inference."
   ]
  },
  {
   "cell_type": "code",
   "execution_count": 19,
   "metadata": {
    "collapsed": true
   },
   "outputs": [],
   "source": [
    "\"\"\"\n",
    "DON'T MODIFY ANYTHING IN THIS CELL\n",
    "\"\"\"\n",
    "# Save parameters for checkpoint\n",
    "helper.save_params(save_path)"
   ]
  },
  {
   "cell_type": "markdown",
   "metadata": {},
   "source": [
    "# Checkpoint"
   ]
  },
  {
   "cell_type": "code",
   "execution_count": 20,
   "metadata": {
    "collapsed": true
   },
   "outputs": [],
   "source": [
    "\"\"\"\n",
    "DON'T MODIFY ANYTHING IN THIS CELL\n",
    "\"\"\"\n",
    "import tensorflow as tf\n",
    "import numpy as np\n",
    "import helper\n",
    "import problem_unittests as tests\n",
    "\n",
    "_, (source_vocab_to_int, target_vocab_to_int), (source_int_to_vocab, target_int_to_vocab) = helper.load_preprocess()\n",
    "load_path = helper.load_params()"
   ]
  },
  {
   "cell_type": "markdown",
   "metadata": {},
   "source": [
    "## Sentence to Sequence\n",
    "To feed a sentence into the model for translation, you first need to preprocess it.  Implement the function `sentence_to_seq()` to preprocess new sentences.\n",
    "\n",
    "\n",
    "- Convert the sentence to lowercase\n",
    "- Convert words into ids using `vocab_to_int`\n",
    " - Convert words not in the vocabulary, to the `<UNK>` word id."
   ]
  },
  {
   "cell_type": "code",
   "execution_count": 21,
   "metadata": {},
   "outputs": [
    {
     "name": "stdout",
     "output_type": "stream",
     "text": [
      "Tests Passed\n"
     ]
    }
   ],
   "source": [
    "def sentence_to_seq(sentence, vocab_to_int):\n",
    "    \"\"\"\n",
    "    Convert a sentence to a sequence of ids\n",
    "    :param sentence: String\n",
    "    :param vocab_to_int: Dictionary to go from the words to an id\n",
    "    :return: List of word ids\n",
    "    \"\"\"\n",
    "    \n",
    "    s_lower = sentence.lower()\n",
    "    # for all words in senten - get the int - if none found set to id-of-UNK\n",
    "    ids = [ vocab_to_int.get(word, vocab_to_int['<UNK>'])  for word in s_lower.split() ]\n",
    "    \n",
    "    return ids \n",
    "\n",
    "\n",
    "\"\"\"\n",
    "DON'T MODIFY ANYTHING IN THIS CELL THAT IS BELOW THIS LINE\n",
    "\"\"\"\n",
    "tests.test_sentence_to_seq(sentence_to_seq)"
   ]
  },
  {
   "cell_type": "markdown",
   "metadata": {},
   "source": [
    "## Translate\n",
    "This will translate `translate_sentence` from English to French."
   ]
  },
  {
   "cell_type": "code",
   "execution_count": 22,
   "metadata": {},
   "outputs": [
    {
     "name": "stdout",
     "output_type": "stream",
     "text": [
      "Input\n",
      "  Word Ids:      [216, 197, 15, 87, 113, 135, 169]\n",
      "  English Words: ['he', 'saw', 'a', 'old', 'yellow', 'truck', '.']\n",
      "\n",
      "Prediction\n",
      "  Word Ids:      [45, 285, 339, 229, 192, 348, 134, 76, 1]\n",
      "  French Words: ['il', 'a', 'vu', 'un', 'vieux', 'camion', 'prochain', '.', '<EOS>']\n"
     ]
    }
   ],
   "source": [
    "translate_sentence = 'he saw a old yellow truck .'\n",
    "\n",
    "\"\"\"\n",
    "# google trans (GT:)\n",
    "# 'he saw a old yellow truck .' (GT:) Il a vu un vieux caminion jaune\n",
    "        --- Input\n",
    "            Word Ids:      [18, 190, 218, 72, 146, 159, 124]\n",
    "            English Words: ['he', 'saw', 'a', 'old', 'yellow', 'truck', '.']\n",
    "        Prediction\n",
    "            Word Ids:      [214, 107, 177, 109, 74, 295, 354, 118, 1]\n",
    "            French Words: ['il', 'a', 'vu', 'un', 'petit', 'camion', 'jaune', '.', '<EOS>']\n",
    "        ---\n",
    "\n",
    "# 'it was the age of wisdom , it was the age of foolishness ,'\n",
    "        (GT:) C'etait l'age de la sagresse, c'etait l'age de la sottise,\n",
    "        ---['it', 'was', 'the', '<UNK>', '<UNK>', '<UNK>', ',', 'it', 'was', 'the', '<UNK>', '<UNK>', '<UNK>', ','] \n",
    "        \n",
    "# used to avoid '<UNK>'\n",
    "# 'new jersey is nice when it is hot , paris is usually busy in july'\n",
    "        (GT:) New Jersey est agreable quand il est chaud, Paris est generalement occupe en juillet\n",
    "        --- Input\n",
    "            Word Ids:      [173, 149, 199, 192, 116, 180, 199, 145, 134, 26, 199, 179, 49, 126, 169]\n",
    "            English Words: ['new', 'jersey', 'is', 'nice', 'when', 'it', 'is', 'hot', ',', 'paris', 'is', 'usually', 'busy', 'in', 'july']\n",
    "        Prediction\n",
    "            Word Ids:      [129, 66, 128, 349, 230, 25, 57, 329, 302, 214, 128, 150, 226, 25, 37, 118, 1]\n",
    "            French Words: ['new', 'jersey', 'est', 'généralement', 'chaud', 'en', 'mars', ',', 'et', 'il', 'est', 'jamais', 'agréable', 'en', 'avril', '.', '<EOS>']\n",
    "        ---\n",
    "\n",
    "# 'he dislikes autumn in china , it is chilly , sometimes it is snowy , it is never mild'\n",
    "        (GT:) Il n'aime pas l'automne en Chine, il est froid, il est parfois neigeux, il n'est jamais doux\n",
    "        --- Input\n",
    "            Word Ids:      [18, 98, 193, 126, 165, 134, 180, 199, 80, 134, 96, 180, 199, 45, 134, 180, 199, 148, 61]\n",
    "            English Words: ['he', 'dislikes', 'autumn', 'in', 'china', ',', 'it', 'is', 'chilly', ',', 'sometimes', 'it', 'is', 'snowy', ',', 'it', 'is', 'never', 'mild']\n",
    "        Prediction\n",
    "            Word Ids:      [214, 128, 349, 76, 157, 112, 203, 241, 171, 329, 279, 150, 203, 324, 183, 241, 171, 128]\n",
    "            French Words: ['il', 'est', 'généralement', 'froid', 'au', 'cours', 'de', \"l'\", 'automne', ',', 'mais', 'jamais', 'de', 'neige', 'à', \"l'\", 'automne', 'est']\n",
    "        ---\n",
    "\"\"\"\n",
    "\n",
    "\"\"\"\n",
    "DON'T MODIFY ANYTHING IN THIS CELL\n",
    "\"\"\"\n",
    "translate_sentence = sentence_to_seq(translate_sentence, source_vocab_to_int)\n",
    "\n",
    "loaded_graph = tf.Graph()\n",
    "with tf.Session(graph=loaded_graph) as sess:\n",
    "    # Load saved model\n",
    "    loader = tf.train.import_meta_graph(load_path + '.meta')\n",
    "    loader.restore(sess, load_path)\n",
    "\n",
    "    input_data = loaded_graph.get_tensor_by_name('input:0')\n",
    "    logits = loaded_graph.get_tensor_by_name('logits:0')\n",
    "    keep_prob = loaded_graph.get_tensor_by_name('keep_prob:0')\n",
    "\n",
    "    translate_logits = sess.run(logits, {input_data: [translate_sentence], keep_prob: 1.0})[0]\n",
    "\n",
    "print('Input')\n",
    "print('  Word Ids:      {}'.format([i for i in translate_sentence]))\n",
    "print('  English Words: {}'.format([source_int_to_vocab[i] for i in translate_sentence]))\n",
    "\n",
    "print('\\nPrediction')\n",
    "print('  Word Ids:      {}'.format([i for i in np.argmax(translate_logits, 1)]))\n",
    "print('  French Words: {}'.format([target_int_to_vocab[i] for i in np.argmax(translate_logits, 1)]))"
   ]
  },
  {
   "cell_type": "markdown",
   "metadata": {},
   "source": [
    "## Imperfect Translation\n",
    "You might notice that some sentences translate better than others.  Since the dataset you're using only has a vocabulary of 227 English words of the thousands that you use, you're only going to see good results using these words.  For this project, you don't need a perfect translation. However, if you want to create a better translation model, you'll need better data.\n",
    "\n",
    "You can train on the [WMT10 French-English corpus](http://www.statmt.org/wmt10/training-giga-fren.tar).  This dataset has more vocabulary and richer in topics discussed.  However, this will take you days to train, so make sure you've a GPU and the neural network is performing well on dataset we provided.  Just make sure you play with the WMT10 corpus after you've submitted this project.\n",
    "## Submitting This Project\n",
    "When submitting this project, make sure to run all the cells before saving the notebook. Save the notebook file as \"dlnd_language_translation.ipynb\" and save it as a HTML file under \"File\" -> \"Download as\". Include the \"helper.py\" and \"problem_unittests.py\" files in your submission."
   ]
  }
 ],
 "metadata": {
  "kernelspec": {
   "display_name": "Python 3",
   "language": "python",
   "name": "python3"
  },
  "language_info": {
   "codemirror_mode": {
    "name": "ipython",
    "version": 3
   },
   "file_extension": ".py",
   "mimetype": "text/x-python",
   "name": "python",
   "nbconvert_exporter": "python",
   "pygments_lexer": "ipython3",
   "version": "3.5.3"
  }
 },
 "nbformat": 4,
 "nbformat_minor": 1
}
